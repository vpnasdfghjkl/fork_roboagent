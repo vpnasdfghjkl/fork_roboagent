{
 "cells": [
  {
   "cell_type": "code",
   "execution_count": 2,
   "metadata": {},
   "outputs": [
    {
     "name": "stdout",
     "output_type": "stream",
     "text": [
      "(1, 4)\n",
      "Concatenate Result:\n",
      "[[1 2 3 4 5 6 7 8]]\n",
      "(1, 8)\n",
      "\n",
      "Stack Result:\n",
      "[[[1 2 3 4]]\n",
      "\n",
      " [[5 6 7 8]]]\n",
      "(2, 1, 4)\n"
     ]
    }
   ],
   "source": [
    "import numpy as np\n",
    "\n",
    "# Arrays with the same shape\n",
    "arr1 = np.array([[1, 2,3, 4]])\n",
    "arr2 = np.array([[5, 6,7,8]])\n",
    "print(arr1.shape)\n",
    "# Repeat arr2 to have the same shape as arr1\n",
    "arr2_repeated = arr2\n",
    "\n",
    "# Concatenate\n",
    "result_concatenate = np.concatenate((arr1, arr2_repeated), axis=1)\n",
    "print(\"Concatenate Result:\")\n",
    "print(result_concatenate)\n",
    "print(result_concatenate.shape)\n",
    "\n",
    "# Stack\n",
    "result_stack = np.stack((arr1, arr2_repeated), axis=0)\n",
    "print(\"\\nStack Result:\")\n",
    "print(result_stack)\n",
    "print(result_stack.shape)\n"
   ]
  },
  {
   "cell_type": "code",
   "execution_count": 3,
   "metadata": {},
   "outputs": [
    {
     "data": {
      "text/plain": [
       "array([3, 4])"
      ]
     },
     "execution_count": 3,
     "metadata": {},
     "output_type": "execute_result"
    }
   ],
   "source": [
    "arr1 = np.array([1, 2,3, 4])\n",
    "arr1[2:]"
   ]
  },
  {
   "cell_type": "code",
   "execution_count": 10,
   "metadata": {},
   "outputs": [],
   "source": [
    "import torch\n",
    "print(\"1\") if torch.cuda.is_available() else None\n",
    "    # model.cuda()"
   ]
  }
 ],
 "metadata": {
  "kernelspec": {
   "display_name": "act",
   "language": "python",
   "name": "python3"
  },
  "language_info": {
   "codemirror_mode": {
    "name": "ipython",
    "version": 3
   },
   "file_extension": ".py",
   "mimetype": "text/x-python",
   "name": "python",
   "nbconvert_exporter": "python",
   "pygments_lexer": "ipython3",
   "version": "3.8.18"
  }
 },
 "nbformat": 4,
 "nbformat_minor": 2
}
